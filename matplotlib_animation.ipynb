{
 "cells": [
  {
   "cell_type": "markdown",
   "metadata": {},
   "source": [
    "# Inline matplotlib animation in notebook\n",
    "\n",
    "In this example, we use the timer widget to drive a matplotlib animation. The module provides a gen_widget method that renders a matplotlib animation into the notebook.\n",
    "\n",
    "This function is a direct application of the 'DoubleBufferingViewer' example of the [basic example notebook](basic.ipynb).\n",
    "\n",
    "The javascript timer is connected to a method that ask to the matplotlib animation to process the next frame. Then the matplotlib figure is rendered into a Jupyter Image Widget.\n",
    "\n",
    "Note, this [method](https://jakevdp.github.io/blog/2013/06/01/ipython-notebook-javascript-python-communication/) is very similar. The difference is the use of the Jupyter widgets to encapsulate the javascript code. It hides the javascript and make the code more reusable and shareable.\n",
    "\n",
    "__Todo__: Patch matplotlib Animation class with  the gen_widget method to change the HTML representation. "
   ]
  },
  {
   "cell_type": "code",
   "execution_count": 1,
   "metadata": {
    "collapsed": false
   },
   "outputs": [
    {
     "data": {
      "image/png": "[encoded data removed]",
      "text/plain": [
       "<matplotlib.figure.Figure at 0x7f57543e0590>"
      ]
     },
     "metadata": {},
     "output_type": "display_data"
    }
   ],
   "source": [
    "import numpy as np\n",
    "%matplotlib inline\n",
    "import matplotlib.pyplot as plt\n",
    "import matplotlib.animation as animation\n",
    "\n",
    "from animationwidget.matplotlibanim import gen_widget\n",
    "\n",
    "\n",
    "def data_gen(t=0):\n",
    "    cnt = 0\n",
    "    while cnt < 1000:\n",
    "        cnt += 1\n",
    "        t += 0.1\n",
    "        yield t, np.sin(2*np.pi*t) * np.exp(-t/10.)\n",
    "\n",
    "\n",
    "def init():\n",
    "    ax.set_ylim(-1.1, 1.1)\n",
    "    ax.set_xlim(0, 10)\n",
    "    del xdata[:]\n",
    "    del ydata[:]\n",
    "    line.set_data(xdata, ydata)\n",
    "    return line,\n",
    "\n",
    "fig, ax = plt.subplots()\n",
    "line, = ax.plot([], [], lw=2)\n",
    "ax.grid()\n",
    "xdata, ydata = [], []\n",
    "\n",
    "\n",
    "def run(data):\n",
    "    # update the data\n",
    "    t, y = data\n",
    "    xdata.append(t)\n",
    "    ydata.append(y)\n",
    "    xmin, xmax = ax.get_xlim()\n",
    "\n",
    "    if t >= xmax:\n",
    "        ax.set_xlim(xmin, 2*xmax)\n",
    "        ax.figure.canvas.draw()\n",
    "    line.set_data(xdata, ydata)\n",
    "\n",
    "    return line,\n",
    "\n",
    "ani = gen_widget(animation.FuncAnimation(fig, run, data_gen, blit=False, interval=10,\n",
    "                              repeat=False, init_func=init))"
   ]
  }
 ],
 "metadata": {
  "kernelspec": {
   "display_name": "Python 2",
   "language": "python",
   "name": "python2"
  },
  "language_info": {
   "codemirror_mode": {
    "name": "ipython",
    "version": 2
   },
   "file_extension": ".py",
   "mimetype": "text/x-python",
   "name": "python",
   "nbconvert_exporter": "python",
   "pygments_lexer": "ipython2",
   "version": "2.7.9"
  },
  "widgets": {
   "state": {
    "05ab75a9cd68450282d99e40f1043ff8": {
     "views": []
    },
    "4899928b7504420fa69a9db0dcc07bd5": {
     "views": [
      {
       "cell_index": 0
      }
     ]
    },
    "53d2f36ae96e4ed3a6ee442b231d6194": {
     "views": []
    },
    "8e1e9f24cfe04777a9ec33dc1a1bb94f": {
     "views": [
      {
       "cell_index": 0
      }
     ]
    },
    "9ec50417e0c34f53bb9917aaaf32efd9": {
     "views": [
      {
       "cell_index": 0
      }
     ]
    },
    "a3103a74a3b74f7dba742b5756eac20c": {
     "views": []
    }
   },
   "version": "1.1.2"
  }
 },
 "nbformat": 4,
 "nbformat_minor": 0
}
