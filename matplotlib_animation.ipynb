{
 "cells": [
  {
   "cell_type": "code",
   "execution_count": null,
   "metadata": {
    "collapsed": false
   },
   "outputs": [],
   "source": [
    "import numpy as np\n",
    "%matplotlib inline\n",
    "import matplotlib.pyplot as plt\n",
    "import matplotlib.animation as animation\n",
    "\n",
    "from animationwidget.matplotlibanim import gen_widget\n",
    "\n",
    "\n",
    "def data_gen(t=0):\n",
    "    cnt = 0\n",
    "    while cnt < 1000:\n",
    "        cnt += 1\n",
    "        t += 0.1\n",
    "        yield t, np.sin(2*np.pi*t) * np.exp(-t/10.)\n",
    "\n",
    "\n",
    "def init():\n",
    "    ax.set_ylim(-1.1, 1.1)\n",
    "    ax.set_xlim(0, 10)\n",
    "    del xdata[:]\n",
    "    del ydata[:]\n",
    "    line.set_data(xdata, ydata)\n",
    "    return line,\n",
    "\n",
    "fig, ax = plt.subplots()\n",
    "line, = ax.plot([], [], lw=2)\n",
    "ax.grid()\n",
    "xdata, ydata = [], []\n",
    "\n",
    "\n",
    "def run(data):\n",
    "    # update the data\n",
    "    t, y = data\n",
    "    xdata.append(t)\n",
    "    ydata.append(y)\n",
    "    xmin, xmax = ax.get_xlim()\n",
    "\n",
    "    if t >= xmax:\n",
    "        ax.set_xlim(xmin, 2*xmax)\n",
    "        ax.figure.canvas.draw()\n",
    "    line.set_data(xdata, ydata)\n",
    "\n",
    "    return line,\n",
    "\n",
    "ani = gen_widget(animation.FuncAnimation(fig, run, data_gen, blit=False, interval=10,\n",
    "                              repeat=False, init_func=init))"
   ]
  },
  {
   "cell_type": "code",
   "execution_count": null,
   "metadata": {
    "collapsed": true
   },
   "outputs": [],
   "source": []
  }
 ],
 "metadata": {
  "kernelspec": {
   "display_name": "Python 2",
   "language": "python",
   "name": "python2"
  },
  "language_info": {
   "codemirror_mode": {
    "name": "ipython",
    "version": 2
   },
   "file_extension": ".py",
   "mimetype": "text/x-python",
   "name": "python",
   "nbconvert_exporter": "python",
   "pygments_lexer": "ipython2",
   "version": "2.7.9"
  },
  "widgets": {
   "state": {
    "00b3f90af911483b82e9bc2bed67c697": {
     "views": []
    },
    "01c0d61348af4451a9ba40757f892149": {
     "views": []
    },
    "0764408bc05d4e4baf11c1d345a2e04b": {
     "views": []
    },
    "0b0886297d3c45fb9e7182694510612b": {
     "views": []
    },
    "150ad9b9c6e74fd8a9b88e48eae1a1c4": {
     "views": []
    },
    "16f255e7dc104d2ab4aecf51c1cb3af1": {
     "views": []
    },
    "1eb6397741a74b2d945b222f2b40d0f2": {
     "views": []
    },
    "1ee8045afe9f48268cbddc8635a20865": {
     "views": []
    },
    "39ef7f8be0074cb6b5d4f21f6821f486": {
     "views": []
    },
    "491976f81a1e4f97851d9a955837bef1": {
     "views": []
    },
    "4b63b7578f864d239b1ffa46cf188cee": {
     "views": []
    },
    "5405b40e37ba42dcaad8a75f80cf01e3": {
     "views": [
      {
       "cell_index": 1
      }
     ]
    },
    "570fc397a29540d78ff09f4a56510abc": {
     "views": [
      {
       "cell_index": 1
      }
     ]
    },
    "5ae292c1520547e28aad41d77ba189c9": {
     "views": []
    },
    "820dfe63d94e4e989ddeb1386e9838ef": {
     "views": []
    },
    "864eff5090904bfa8d77eb0253923958": {
     "views": [
      {
       "cell_index": 0
      }
     ]
    },
    "8e68ed61aee440baa02ac480085ff3b7": {
     "views": []
    },
    "9c3b821f3f174d5faf129db4a703dfcf": {
     "views": []
    },
    "9d9d769da8fa480c837dd912581a1dcd": {
     "views": []
    },
    "9fa1ad9efd2841df9bf03309c26fe208": {
     "views": []
    },
    "a30d20ba154e4887b6afcf1a6552ef04": {
     "views": []
    },
    "b20f778ff6344aa097aa65269bebe75e": {
     "views": [
      {
       "cell_index": 0
      }
     ]
    },
    "b3785f599af14909ba67af5f80481545": {
     "views": []
    },
    "b5951d9270e34a85a0f40c1e006a6226": {
     "views": [
      {
       "cell_index": 0
      }
     ]
    },
    "ba4803627e1647359936d688919b01e1": {
     "views": []
    },
    "c52d9a112f83467a85d06d305f982bd9": {
     "views": []
    },
    "d60844a2a98149179f32d26b9b9b44d2": {
     "views": []
    },
    "d93cd58ca11d4db89b7f752ad46defd3": {
     "views": []
    },
    "dd63971c08f14f419ee7efd444c4e987": {
     "views": []
    },
    "e23395753a3f4563a98cff093fa82fad": {
     "views": []
    },
    "e679fe61ff9443b484eee6414ab5f2bf": {
     "views": []
    },
    "e8673358564e45a2a3a9bbce09a8c761": {
     "views": []
    },
    "ef0d4fe1e4b3405296d182c7d3c66793": {
     "views": [
      {
       "cell_index": 1
      }
     ]
    },
    "f21790ae8ae2450fabd39f4ae3fe96a8": {
     "views": []
    },
    "f8c8c0fa4b4d484bb59c1c65e00ab47d": {
     "views": []
    },
    "fb718f7afd3b488b9b384c76a1a88957": {
     "views": [
      {
       "cell_index": 0
      }
     ]
    },
    "fd74ae0e22224608acbaeb81316e8045": {
     "views": []
    },
    "ffb8d0b84f5e4eed8aca295da13b183e": {
     "views": []
    }
   },
   "version": "1.1.2"
  }
 },
 "nbformat": 4,
 "nbformat_minor": 0
}
