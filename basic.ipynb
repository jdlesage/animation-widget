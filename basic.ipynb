{
 "cells": [
  {
   "cell_type": "markdown",
   "metadata": {},
   "source": [
    "# AnimationWidget. Basics"
   ]
  },
  {
   "cell_type": "markdown",
   "metadata": {},
   "source": [
    "Introduction\n",
    "============\n",
    "\n",
    "This notebook presents the animationwidget. It provides a periodic timer. This timer delivers a pulse that can drive animations in a notebook.\n",
    "\n",
    "Under the hull, this widget uses the javascript [setTimeout() function](http://www.w3schools.com/jsref/met_win_settimeout.asp) to periodically change a value in a Python model. This value can then be connected to other widgets.\n",
    "\n",
    "For more details about widgets , I recommend the [PyDataParis2016 tutorial by Sylvain Corlet](https://github.com/SylvainCorlay/PyDataParis2016/blob/master/Index.ipynb)"
   ]
  },
  {
   "cell_type": "code",
   "execution_count": 1,
   "metadata": {
    "collapsed": false
   },
   "outputs": [],
   "source": [
    "from __future__ import print_function\n",
    "import animationwidget"
   ]
  },
  {
   "cell_type": "code",
   "execution_count": 2,
   "metadata": {
    "collapsed": false
   },
   "outputs": [],
   "source": [
    "w = animationwidget.AnimationWidget()"
   ]
  },
  {
   "cell_type": "code",
   "execution_count": 3,
   "metadata": {
    "collapsed": false,
    "scrolled": true
   },
   "outputs": [],
   "source": [
    "w"
   ]
  },
  {
   "cell_type": "markdown",
   "metadata": {},
   "source": [
    "The widget has the following attributes:\n",
    "* value: a float in [0,1] interval. The timer periodically changes this value\n",
    "* run: a boolean that triggers the timer. \n",
    "* period: signal period (in milliseconds). It is the time for the counter to go from 0.0 to 1.0\n",
    "* sampling: sampling rate, interval between two pulses of the trigger."
   ]
  },
  {
   "cell_type": "code",
   "execution_count": 4,
   "metadata": {
    "collapsed": false
   },
   "outputs": [],
   "source": [
    "w.run = True"
   ]
  },
  {
   "cell_type": "markdown",
   "metadata": {},
   "source": [
    "### First Animation\n",
    "\n",
    "In this first example, we visualize the timer value into a matplotlib plot. \n",
    "\n",
    "First, we need a special buffer to get a window on the last signal values. The RingBufferArray is a ring buffer that will store the last N values into a numpy array"
   ]
  },
  {
   "cell_type": "code",
   "execution_count": 5,
   "metadata": {
    "collapsed": false
   },
   "outputs": [],
   "source": [
    "import numpy as np\n",
    "\n",
    "class RingBufferArray(object):\n",
    "    \"\"\"\n",
    "    A class that keep a window of the N last values\n",
    "    \"\"\"\n",
    "    def __init__(self, size, dtype):\n",
    "        \"\"\"\n",
    "        :param size: windows size\n",
    "        :param dtype: data type\n",
    "        \"\"\"\n",
    "        self._values = np.zeros(size, dtype=dtype)\n",
    "        self._start_index = 0\n",
    "        self._len = size\n",
    "        \n",
    "\n",
    "    def __call__(self, new_value):\n",
    "        \"\"\"\n",
    "        Add the new value to the window. Return the full signal\n",
    "        \"\"\"\n",
    "        # Push value\n",
    "        self._values[self._start_index] = new_value\n",
    "        self._start_index = (self._start_index + 1) % self._len\n",
    "        return np.append(self._values[self._start_index:], self._values[:self._start_index])\n"
   ]
  },
  {
   "cell_type": "markdown",
   "metadata": {},
   "source": [
    "Then, we create a viewer based on matplotlib that will render the values into the ring buffer.\n",
    "\n",
    "The update method:\n",
    "* Update the ring buffer with the new value from the timer\n",
    "* Then render using matplotlib\n",
    "\n",
    "We connect the timer events to the update method using the observe method"
   ]
  },
  {
   "cell_type": "code",
   "execution_count": 6,
   "metadata": {
    "collapsed": false
   },
   "outputs": [
    {
     "data": {
      "image/png": "[encoded data removed]",
      "text/plain": [
       "<matplotlib.figure.Figure at 0x7f4426de8550>"
      ]
     },
     "metadata": {},
     "output_type": "display_data"
    }
   ],
   "source": [
    "import math\n",
    "import matplotlib.pyplot as plt\n",
    "from ipywidgets import ToggleButton\n",
    "from traitlets import link\n",
    "from IPython.display import display, clear_output\n",
    "%matplotlib inline\n",
    "\n",
    "\n",
    "class SignalViewer(object):\n",
    "    def __init__(self, size, fun_to_visualize):\n",
    "        \"\"\"\n",
    "        :param size: size of ring buffer (number of points to visualize)\n",
    "        :param fig_size: figure dimension\n",
    "        \"\"\"\n",
    "        self.buff = RingBufferArray(size, np.float64)\n",
    "        self.x = np.arange(size)\n",
    "        self.fun = fun_to_visualize\n",
    "        self.fig, self.ax = plt.subplots(1, 1)\n",
    "        \n",
    "    def update(self, new_value):\n",
    "        \"\"\"\n",
    "        Update the window and replot the figure\n",
    "        \"\"\"\n",
    "        # Add the new point to the buffer ring\n",
    "        ypoints = self.buff(self.fun(new_value))\n",
    "        # Replot \n",
    "        self.ax.cla()\n",
    "        self.ax.set_ylim(-1.0, 1.0)\n",
    "        self.ax.plot(self.x, ypoints, 'o-')\n",
    "        # Clear the previous display\n",
    "        clear_output(wait=True)\n",
    "        # Display the new one\n",
    "        display(self.fig)\n",
    "\n",
    "def sinus(val):\n",
    "    return math.sin(2.0*math.pi*val)\n",
    "        \n",
    "s = SignalViewer(100, sinus)\n",
    "anim = animationwidget.AnimationWidget()\n",
    "anim.loop = True\n",
    "\n",
    "button = ToggleButton(description=\"run\", default=False)\n",
    "link((button, 'value'), (anim, 'run'))\n",
    "display(anim)\n",
    "display(button)\n",
    "\n",
    "# Connect timer to view\n",
    "anim.observe(lambda value: s.update(value[\"new\"]), names='value')"
   ]
  },
  {
   "cell_type": "markdown",
   "metadata": {},
   "source": [
    "### Double buffering\n",
    "\n"
   ]
  },
  {
   "cell_type": "code",
   "execution_count": 7,
   "metadata": {
    "collapsed": false,
    "scrolled": true
   },
   "outputs": [],
   "source": [
    "class DoubleBufferingSignalView(object):\n",
    "    def __init__(self, size, fun_to_visualize):\n",
    "        \"\"\"\n",
    "        :param size: buffer ring size\n",
    "        :param figsize: figure size (in pixel)\n",
    "        \"\"\"\n",
    "        self.buff = RingBufferArray(size, np.float64)\n",
    "        self.x = np.arange(size)\n",
    "        self.fun = fun_to_visualize\n",
    "        self.fig, self.ax = plt.subplots(1, 1)\n",
    "        figsize = animationwidget.get_fig_size(self.fig)\n",
    "        self.img = animationwidget.Image()\n",
    "        self.img.width = \"{0}px\".format(figsize[0])\n",
    "        self.img.height = \"{0}px\".format(figsize[1])\n",
    "        # Render \n",
    "        animationwidget.plot_into_img_widget(self.img, self.fig)\n",
    "        # Remove the original matplotlib plot\n",
    "        plt.close()\n",
    "        clear_output(wait=True)\n",
    "        # Display image \n",
    "        display(self.img)\n",
    "    \n",
    "    def update(self, new_value):\n",
    "        \"\"\"\n",
    "        Update the window and replot the figure\n",
    "        \"\"\"\n",
    "        # Add the new point to the buffer ring\n",
    "        ypoints = self.buff(self.fun(new_value))\n",
    "        # Replot \n",
    "        self.ax.cla()\n",
    "        self.ax.set_ylim(-1, 1)\n",
    "        self.ax.plot(self.x, ypoints, 'o-')\n",
    "        animationwidget.plot_into_img_widget(self.img, self.fig)\n",
    "        \n",
    "\n",
    "s = DoubleBufferingSignalView(100, sinus)\n",
    "anim = animationwidget.AnimationWidget()\n",
    "anim.loop = True\n",
    "\n",
    "button = ToggleButton(description=\"run\", default=False)\n",
    "link((button, 'value'), (anim, 'run'))\n",
    "display(anim)\n",
    "display(button)\n",
    "\n",
    "# Connect timer to view\n",
    "anim.observe(lambda value: s.update(value[\"new\"]), names='value')"
   ]
  },
  {
   "cell_type": "markdown",
   "metadata": {
    "collapsed": true
   },
   "source": [
    "### An animation "
   ]
  },
  {
   "cell_type": "code",
   "execution_count": 8,
   "metadata": {
    "collapsed": false
   },
   "outputs": [],
   "source": [
    "from ipywidgets import FloatSlider, IntSlider\n",
    "\n",
    "s = DoubleBufferingSignalView(100, sinus)\n",
    "anim = animationwidget.AnimationWidget()\n",
    "anim.loop = True\n",
    "\n",
    "button = ToggleButton(description=\"run\", default=False)\n",
    "period = FloatSlider(min=100, max=20000, step=100, description=\"period (ms)\")\n",
    "nbsamples = IntSlider(min=10, max=200, step=10, description=\"number of samples in a period\")\n",
    "link((button, 'value'), (anim, 'run'))\n",
    "link((period, 'value'), (anim, 'period'))\n",
    "link((nbsamples, 'value'), (anim, 'nbsamples'))\n",
    "display(anim)\n",
    "display(button)\n",
    "display(period)\n",
    "display(nbsamples)\n",
    "\n",
    "# Connect timer to view\n",
    "anim.observe(lambda value: s.update(value[\"new\"]), names='value')"
   ]
  },
  {
   "cell_type": "code",
   "execution_count": null,
   "metadata": {
    "collapsed": true
   },
   "outputs": [],
   "source": []
  }
 ],
 "metadata": {
  "kernelspec": {
   "display_name": "Python 2",
   "language": "python",
   "name": "python2"
  },
  "language_info": {
   "codemirror_mode": {
    "name": "ipython",
    "version": 2
   },
   "file_extension": ".py",
   "mimetype": "text/x-python",
   "name": "python",
   "nbconvert_exporter": "python",
   "pygments_lexer": "ipython2",
   "version": "2.7.9"
  },
  "widgets": {
   "state": {},
   "version": "1.1.2"
  }
 },
 "nbformat": 4,
 "nbformat_minor": 0
}
