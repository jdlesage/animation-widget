{
 "cells": [
  {
   "cell_type": "markdown",
   "metadata": {},
   "source": [
    "# AnimationWidget. Basics"
   ]
  },
  {
   "cell_type": "markdown",
   "metadata": {},
   "source": [
    "Introduction\n",
    "============\n",
    "\n",
    "This notebook presents the animationwidget. It provides a periodic timer. This timer delivers a pulse that can drive animations in a notebook.\n",
    "\n",
    "Under the hull, this widget uses the javascript [setTimeout() function](http://www.w3schools.com/jsref/met_win_settimeout.asp) to periodically change a value in a Python model. This value can then be connected to other widgets.\n",
    "\n",
    "For more details about widgets , I recommend the [PyDataParis2016 tutorial by Sylvain Corlet](https://github.com/SylvainCorlay/PyDataParis2016/blob/master/Index.ipynb)"
   ]
  },
  {
   "cell_type": "code",
   "execution_count": 1,
   "metadata": {
    "collapsed": true
   },
   "outputs": [],
   "source": [
    "from __future__ import print_function\n",
    "import animationwidget"
   ]
  },
  {
   "cell_type": "code",
   "execution_count": 2,
   "metadata": {
    "collapsed": false
   },
   "outputs": [],
   "source": [
    "w = animationwidget.AnimationWidget()"
   ]
  },
  {
   "cell_type": "code",
   "execution_count": 3,
   "metadata": {
    "collapsed": false,
    "scrolled": true
   },
   "outputs": [],
   "source": [
    "w"
   ]
  },
  {
   "cell_type": "markdown",
   "metadata": {},
   "source": [
    "The widget has the following attributes:\n",
    "* value: a float in [0,1] interval. The timer periodically changes this value\n",
    "* run: a boolean that triggers the timer. \n",
    "* period: signal period (in milliseconds). It is the time for the counter to go from 0.0 to 1.0\n",
    "* sampling: sampling rate, interval between two pulses of the trigger."
   ]
  },
  {
   "cell_type": "code",
   "execution_count": 13,
   "metadata": {
    "collapsed": false
   },
   "outputs": [],
   "source": [
    "w.run = True"
   ]
  },
  {
   "cell_type": "code",
   "execution_count": 5,
   "metadata": {
    "collapsed": false
   },
   "outputs": [],
   "source": [
    "import numpy as np\n",
    "\n",
    "class RingBufferArray(object):\n",
    "    \"\"\"\n",
    "    A class that keep a window of the N last values\n",
    "    \"\"\"\n",
    "    def __init__(self, size, dtype):\n",
    "        \"\"\"\n",
    "        :param size: windows size\n",
    "        :param dtype: data type\n",
    "        \"\"\"\n",
    "        self._values = np.zeros(size, dtype=dtype)\n",
    "        self._start_index = 0\n",
    "        self._len = size\n",
    "        \n",
    "\n",
    "    def __call__(self, new_value):\n",
    "        \"\"\"\n",
    "        Add the new value to the window. Return the full signal\n",
    "        \"\"\"\n",
    "        # Push value\n",
    "        self._values[self._start_index] = new_value\n",
    "        self._start_index = (self._start_index + 1) % self._len\n",
    "        return np.append(self._values[self._start_index:], self._values[:self._start_index])\n"
   ]
  },
  {
   "cell_type": "code",
   "execution_count": 32,
   "metadata": {
    "collapsed": false
   },
   "outputs": [
    {
     "data": {
      "image/png": "[encoded data removed]",
      "text/plain": [
       "<matplotlib.figure.Figure at 0x7f9a57e22850>"
      ]
     },
     "metadata": {},
     "output_type": "display_data"
    }
   ],
   "source": [
    "from ipywidgets import interact\n",
    "import matplotlib.pyplot as plt\n",
    "from IPython.display import display, clear_output\n",
    "%matplotlib inline\n",
    "\n",
    "class SignalViewer(object):\n",
    "    def __init__(self, size):\n",
    "        self.buff = RingBufferArray(size, np.float64)\n",
    "        self.x = np.arange(size)\n",
    "    def update(self, new_value):\n",
    "        clear_output(wait=True)\n",
    "        self.fig, self.ax = plt.subplots(1,1)\n",
    "        self.ax.set_ylim(0, 1)\n",
    "        self.ax.plot(self.x, self.buff(new_value))\n",
    "        #display(self.fig)\n",
    "\n",
    "s = SignalViewer(30)  \n",
    "anim = animationwidget.AnimationWidget()\n",
    "display(anim)\n",
    "anim.observe(lambda value: s.update(value[\"new\"]), names='value')\n"
   ]
  },
  {
   "cell_type": "code",
   "execution_count": 33,
   "metadata": {
    "collapsed": true
   },
   "outputs": [],
   "source": [
    "anim.run = True"
   ]
  },
  {
   "cell_type": "code",
   "execution_count": 11,
   "metadata": {
    "collapsed": false
   },
   "outputs": [],
   "source": [
    "anim"
   ]
  },
  {
   "cell_type": "code",
   "execution_count": null,
   "metadata": {
    "collapsed": true
   },
   "outputs": [],
   "source": []
  }
 ],
 "metadata": {
  "kernelspec": {
   "display_name": "Python 2",
   "language": "python",
   "name": "python2"
  },
  "language_info": {
   "codemirror_mode": {
    "name": "ipython",
    "version": 2
   },
   "file_extension": ".py",
   "mimetype": "text/x-python",
   "name": "python",
   "nbconvert_exporter": "python",
   "pygments_lexer": "ipython2",
   "version": "2.7.11+"
  },
  "widgets": {
   "state": {
    "022bfdaf4c7242458c084099cda06a51": {
     "views": []
    },
    "0be34d92d9ef4550a9daf4490dd202d8": {
     "views": []
    },
    "0e93aae928ef4e31b5ed3583472a30bc": {
     "views": []
    },
    "0eb254d9fdec4ce0bb6fd2da0fedc22c": {
     "views": []
    },
    "108f7539df6348f48d3203a8c6e5c138": {
     "views": []
    },
    "1427e4e85a384a409bfb3a0860015558": {
     "views": []
    },
    "142fc45e05da4b84bc79ff7cf7060506": {
     "views": []
    },
    "15e3c092cfa64743826964bcd6d9e8da": {
     "views": []
    },
    "163ddd2632b741ec92885edb7a3ac21a": {
     "views": [
      {
       "cell_index": 8
      }
     ]
    },
    "19a694ef7e794ce6b42908f7496e5c25": {
     "views": []
    },
    "24407e4610e941f0a21eaadb2a48c22a": {
     "views": []
    },
    "25bfde58001a40c0ba4a3844be3d70eb": {
     "views": []
    },
    "29069cbfb963485bb8895f319e12f080": {
     "views": []
    },
    "2c0ec561a536474380de703e73a4ccdc": {
     "views": []
    },
    "2e176edd9baf45218fcb568295169d43": {
     "views": []
    },
    "2f2f42acaa83403192b694d060991995": {
     "views": []
    },
    "339bf7b13d2e4da4af094cfa1fe5c842": {
     "views": []
    },
    "3753320a51e24fdf82cdb973fe337482": {
     "views": []
    },
    "3b46c0d9cc1f41199e9db107617c38a8": {
     "views": []
    },
    "3d409bbf7a4c4682862e272f342b6a59": {
     "views": []
    },
    "3dc4cb45c01f4106abb86cee74eb5be9": {
     "views": []
    },
    "415be31f98014eea8ca399638509dd0e": {
     "views": []
    },
    "41669e5323874c41be3e829d9cdc6dc6": {
     "views": []
    },
    "4474546de1ce4cc2bf86af71a6294807": {
     "views": []
    },
    "45661dc2afe04f77a5bb10eb62e63577": {
     "views": []
    },
    "47b7d14352094b619c90b6ef481d2f8f": {
     "views": []
    },
    "48ec687f82224d378314c1bf9cdd9654": {
     "views": []
    },
    "4b263a00b4ae4c9891614f794ba3f4e5": {
     "views": []
    },
    "4bf86d75136d400c8b056a04375cfd49": {
     "views": []
    },
    "4d51c0f7b79f4e1e939434e67a1f8363": {
     "views": []
    },
    "4f4c429b418640ecb830812237a3c049": {
     "views": []
    },
    "50ad92ecd4d0497cb4a8b2488e176282": {
     "views": []
    },
    "53fd9e0eaf56485cb1e375cdb8e9352a": {
     "views": []
    },
    "58a7cc428edb4009a15bc3e17db0a5e5": {
     "views": []
    },
    "59189de6294d4a15ac0140d731b5d1fb": {
     "views": []
    },
    "677402bac1224bd9a786d179c2fe3395": {
     "views": []
    },
    "69d6225c015a4e5fac5e03cb2d5b921f": {
     "views": []
    },
    "69f30d30b41c495bb08ed5e46384d512": {
     "views": []
    },
    "6c9a3d8f55654509801544b6568b3a9b": {
     "views": []
    },
    "6eeae1ed81ff4c36960d3aa4f34312f7": {
     "views": []
    },
    "6fa1ea3165704aeabce5ce7f1280652e": {
     "views": []
    },
    "70c53f1147a24936800e20f9cc8a9eed": {
     "views": []
    },
    "763b0af8f7394dcbb0371cfcb0bbe1c8": {
     "views": []
    },
    "8f57bfe259b7409597119ccfa0484aac": {
     "views": []
    },
    "90171077301c4588b6b98ebfdc12eeb1": {
     "views": []
    },
    "9205a56b8e434b638bee7651479c276d": {
     "views": []
    },
    "951a4f8fa51c4b3aad22788856821576": {
     "views": []
    },
    "9d40df463ab949a19b0778ee67d33fd1": {
     "views": []
    },
    "a264d4143f924472a35e83a06fe2650f": {
     "views": []
    },
    "a4d496ba84d245aab1255861f62eb063": {
     "views": []
    },
    "a6034ffb81cb4f20bc44c7e471ce74ed": {
     "views": []
    },
    "a821cee544c84be2bb6b3396885cc9c1": {
     "views": []
    },
    "ac952a0724604f98afeccc9339802b65": {
     "views": []
    },
    "aff2c21caa1b4648ae6a3b752f63364b": {
     "views": []
    },
    "b59b7b15dbd74a7c9a7eb0b1f4fe9878": {
     "views": []
    },
    "b8f675b945b9454d82d1510c2e48ea7f": {
     "views": []
    },
    "b946d5133f6a44c794be66eb95692454": {
     "views": []
    },
    "ba88b2ec916744f3ba64dfd5806a90dd": {
     "views": []
    },
    "bbb09a828ec344c295cd516efdbc9be4": {
     "views": []
    },
    "c0c6698e2ae64c468d59e8ed07453b1d": {
     "views": []
    },
    "c6d346fd34874d8c841025de8dffa488": {
     "views": []
    },
    "c8165805a43744558df81ad1c2c8f04d": {
     "views": []
    },
    "c8a10b491ea645ee9eea2f97cf58b7af": {
     "views": [
      {
       "cell_index": 10
      }
     ]
    },
    "c9126df559714474a744408c62426e16": {
     "views": []
    },
    "caa37ecda26c4bd0845a8a1c834ed035": {
     "views": []
    },
    "cad30b9384ef4772b1b511991cc7fd69": {
     "views": []
    },
    "d5aadc3e8dcd421ca86b96157f87d92b": {
     "views": []
    },
    "d653bc89416e4606a2796fa1bacc6ffe": {
     "views": []
    },
    "d742c11a98d24b8cb0e4c43a1330327f": {
     "views": []
    },
    "dfb7c31e179a4af1bc8b441147b6d2ad": {
     "views": []
    },
    "dffe41ec56834a94a2ebb0d95b18af45": {
     "views": []
    },
    "e2c94df7dd194a1a9619165570ca6608": {
     "views": []
    },
    "e332ff89e3454fdca0227058e294c4af": {
     "views": []
    },
    "e35561335cd74850a6ef98eacc6514d3": {
     "views": []
    },
    "e398e04c4c964c5b9b71a7bca479721b": {
     "views": []
    },
    "f4f78c75a97b48628e36255bd1de6faa": {
     "views": []
    },
    "f5aecae7edf149fba6c34fc61d4d6245": {
     "views": []
    },
    "fb751842f27b4a40b1f2d26fbc0913c6": {
     "views": []
    },
    "fbf26547a6cc41b5b602362e9eea4664": {
     "views": []
    },
    "fdd175ed20ba438dad3cc150be533b54": {
     "views": []
    },
    "fdf020bc00f441e19a5a45c2198cdaef": {
     "views": []
    },
    "fea9202b14e14e95bcfcc802d4a62673": {
     "views": [
      {
       "cell_index": 4
      }
     ]
    }
   },
   "version": "1.1.2"
  }
 },
 "nbformat": 4,
 "nbformat_minor": 0
}
