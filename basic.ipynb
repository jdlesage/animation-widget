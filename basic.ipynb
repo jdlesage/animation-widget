{
 "cells": [
  {
   "cell_type": "markdown",
   "metadata": {},
   "source": [
    "# AnimationWidget. Basics"
   ]
  },
  {
   "cell_type": "markdown",
   "metadata": {},
   "source": [
    "Introduction\n",
    "============\n",
    "\n",
    "This notebook presents the animationwidget. It provides a periodic timer. This timer delivers a pulse that can drive animations in a notebook.\n",
    "\n",
    "Under the hull, this widget uses the javascript [setTimeout() function](http://www.w3schools.com/jsref/met_win_settimeout.asp) to periodically change a value in a Python model. This value can then be connected to other widgets.\n",
    "\n",
    "For more details about widgets , I recommend the [PyDataParis2016 tutorial by Sylvain Corlet](https://github.com/SylvainCorlay/PyDataParis2016/blob/master/Index.ipynb)"
   ]
  },
  {
   "cell_type": "code",
   "execution_count": 1,
   "metadata": {
    "collapsed": true
   },
   "outputs": [],
   "source": [
    "from __future__ import print_function\n",
    "import animationwidget"
   ]
  },
  {
   "cell_type": "code",
   "execution_count": 2,
   "metadata": {
    "collapsed": false
   },
   "outputs": [],
   "source": [
    "w = animationwidget.AnimationWidget()"
   ]
  },
  {
   "cell_type": "code",
   "execution_count": 3,
   "metadata": {
    "collapsed": false,
    "scrolled": true
   },
   "outputs": [],
   "source": [
    "w"
   ]
  },
  {
   "cell_type": "markdown",
   "metadata": {},
   "source": [
    "The widget has the following attributes:\n",
    "* value: a float in [0,1] interval. The timer periodically changes this value\n",
    "* run: a boolean that triggers the timer. \n",
    "* period: signal period (in milliseconds). It is the time for the counter to go from 0.0 to 1.0\n",
    "* sampling: sampling rate, interval between two pulses of the trigger."
   ]
  },
  {
   "cell_type": "code",
   "execution_count": 4,
   "metadata": {
    "collapsed": false
   },
   "outputs": [],
   "source": [
    "w.run = True"
   ]
  },
  {
   "cell_type": "markdown",
   "metadata": {},
   "source": [
    "### My first animation\n",
    "\n",
    "In this first example, we visualize the timer value into a matplotlib plot. \n",
    "\n",
    "First, we need a special buffer to get a window on the last signal values. The RingBufferArray is a ring buffer that will store the last N values into a numpy array"
   ]
  },
  {
   "cell_type": "code",
   "execution_count": 5,
   "metadata": {
    "collapsed": false
   },
   "outputs": [],
   "source": [
    "import numpy as np\n",
    "\n",
    "class RingBufferArray(object):\n",
    "    \"\"\"\n",
    "    A class that keep a window of the N last values\n",
    "    \"\"\"\n",
    "    def __init__(self, size, dtype):\n",
    "        \"\"\"\n",
    "        :param size: windows size\n",
    "        :param dtype: data type\n",
    "        \"\"\"\n",
    "        self._values = np.zeros(size, dtype=dtype)\n",
    "        self._start_index = 0\n",
    "        self._len = size\n",
    "        \n",
    "\n",
    "    def __call__(self, new_value):\n",
    "        \"\"\"\n",
    "        Add the new value to the window. Return the full signal\n",
    "        \"\"\"\n",
    "        # Push value\n",
    "        self._values[self._start_index] = new_value\n",
    "        self._start_index = (self._start_index + 1) % self._len\n",
    "        return np.append(self._values[self._start_index:], self._values[:self._start_index])\n"
   ]
  },
  {
   "cell_type": "markdown",
   "metadata": {},
   "source": [
    "Then, we create a viewer based on matplotlib that will render the values into the ring buffer.\n",
    "\n",
    "The update method:\n",
    "* Update the ring buffer with the new value from the timer\n",
    "* Then render using matplotlib\n",
    "\n",
    "We connect the timer events to the update method using the observe method"
   ]
  },
  {
   "cell_type": "code",
   "execution_count": 10,
   "metadata": {
    "collapsed": false
   },
   "outputs": [
    {
     "data": {
      "image/png": "[encoded data removed]",
      "text/plain": [
       "<matplotlib.figure.Figure at 0x7f8e5415c6d0>"
      ]
     },
     "metadata": {},
     "output_type": "display_data"
    }
   ],
   "source": [
    "import matplotlib.pyplot as plt\n",
    "from ipywidgets import interactive\n",
    "from IPython.display import display, clear_output\n",
    "%matplotlib inline\n",
    "\n",
    "\n",
    "class SignalViewer(object):\n",
    "    def __init__(self, size):\n",
    "        \"\"\"\n",
    "        :param size: size of ring buffer (number of points to visualize)\n",
    "        :param fig_size: figure dimension\n",
    "        \"\"\"\n",
    "        self.buff = RingBufferArray(size, np.float64)\n",
    "        self.x = np.arange(size)\n",
    "        self.fig, self.ax = plt.subplots(1, 1)\n",
    "        \n",
    "    def update(self, new_value):\n",
    "        \"\"\"\n",
    "        Update the window and replot the figure\n",
    "        \"\"\"\n",
    "        # Add the new point to the buffer ring\n",
    "        ypoints = self.buff(new_value)\n",
    "        # Replot \n",
    "        self.ax.cla()\n",
    "        self.ax.set_ylim(0, 1)\n",
    "        self.ax.plot(self.x, ypoints)\n",
    "        # Clear the previous display\n",
    "        clear_output(wait=True)\n",
    "        # Display the new one\n",
    "        display(self.fig)\n",
    "\n",
    "s = SignalViewer(30)\n",
    "anim = animationwidget.AnimationWidget()\n",
    "display(anim)\n",
    "\n",
    "# Connect timer to view\n",
    "anim.observe(lambda value: s.update(value[\"new\"]), names='value')"
   ]
  },
  {
   "cell_type": "code",
   "execution_count": 11,
   "metadata": {
    "collapsed": true
   },
   "outputs": [],
   "source": [
    "anim.run = True"
   ]
  },
  {
   "cell_type": "code",
   "execution_count": 25,
   "metadata": {
    "collapsed": false,
    "scrolled": true
   },
   "outputs": [],
   "source": [
    "import base64\n",
    "import cStringIO\n",
    "\n",
    "__dpi__ = 100\n",
    "\n",
    "def plot_into_img_widget(img_widget, figure):\n",
    "    \"\"\"\n",
    "    Render into memory then display into an image widget\n",
    "    \"\"\"\n",
    "    buf = cStringIO.StringIO()\n",
    "    figure.savefig(buf, format='png', dpi=__dpi__)\n",
    "    img_widget.value = buf.getvalue()\n",
    "    buf.close()\n",
    "    \n",
    "def get_fig_size(fig):\n",
    "    \"\"\"\n",
    "    Return matplotlib size in pixels\n",
    "    \"\"\"\n",
    "    return fig.get_figwidth()*__dpi__, fig.get_figheight()*__dpi__\n",
    "\n",
    "class DoubleBufferingSignalView(object):\n",
    "    def __init__(self, size):\n",
    "        \"\"\"\n",
    "        :param size: buffer ring size\n",
    "        :param figsize: figure size (in pixel)\n",
    "        \"\"\"\n",
    "        self.buff = RingBufferArray(size, np.float64)\n",
    "        self.x = np.arange(size)\n",
    "        self.fig, self.ax = plt.subplots(1, 1)\n",
    "        figsize = get_fig_size(self.fig)\n",
    "        self.img = animationwidget.Image()\n",
    "        self.img.width = \"{0}px\".format(figsize[0])\n",
    "        self.img.height = \"{0}px\".format(figsize[1])\n",
    "        # Render \n",
    "        plot_into_img_widget(self.img, self.fig)\n",
    "        # Remove the original matplotlib plot\n",
    "        plt.close()\n",
    "        clear_output(wait=True)\n",
    "        # Display image \n",
    "        display(self.img)\n",
    "    \n",
    "    def update(self, new_value):\n",
    "        \"\"\"\n",
    "        Update the window and replot the figure\n",
    "        \"\"\"\n",
    "        # Add the new point to the buffer ring\n",
    "        ypoints = self.buff(new_value)\n",
    "        # Replot \n",
    "        self.ax.cla()\n",
    "        self.ax.set_ylim(0, 1)\n",
    "        self.ax.plot(self.x, ypoints)\n",
    "        plot_into_img_widget(self.img, self.fig)\n",
    "        \n",
    "\n",
    "s = DoubleBufferingSignalView(30)\n",
    "anim = animationwidget.AnimationWidget()\n",
    "display(anim)\n",
    "\n",
    "# Connect timer to view\n",
    "#s.update(0.4)\n",
    "#s.update(0.3)\n",
    "anim.observe(lambda value# Render : s.update(value[\"new\"]), names='value')"
   ]
  },
  {
   "cell_type": "code",
   "execution_count": 26,
   "metadata": {
    "collapsed": true
   },
   "outputs": [],
   "source": [
    "anim.run = True"
   ]
  },
  {
   "cell_type": "code",
   "execution_count": null,
   "metadata": {
    "collapsed": true
   },
   "outputs": [],
   "source": []
  }
 ],
 "metadata": {
  "kernelspec": {
   "display_name": "Python 2",
   "language": "python",
   "name": "python2"
  },
  "language_info": {
   "codemirror_mode": {
    "name": "ipython",
    "version": 2
   },
   "file_extension": ".py",
   "mimetype": "text/x-python",
   "name": "python",
   "nbconvert_exporter": "python",
   "pygments_lexer": "ipython2",
   "version": "2.7.11+"
  },
  "widgets": {
   "state": {},
   "version": "1.1.2"
  }
 },
 "nbformat": 4,
 "nbformat_minor": 0
}
