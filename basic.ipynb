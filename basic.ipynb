{
 "cells": [
  {
   "cell_type": "markdown",
   "metadata": {},
   "source": [
    "# AnimationWidget. Basics"
   ]
  },
  {
   "cell_type": "markdown",
   "metadata": {},
   "source": [
    "Introduction\n",
    "============\n",
    "\n",
    "This notebook presents the animationwidget. It provides a periodic timer. This timer delivers a pulse that can drive animations in a notebook.\n",
    "\n",
    "Under the hull, this widget uses the javascript [setTimeout() function](http://www.w3schools.com/jsref/met_win_settimeout.asp) to periodically change a value in a Python model. This value can then be connected to other widgets.\n",
    "\n",
    "For more details about widgets , I recommend the [PyDataParis2016 tutorial by Sylvain Corlet](https://github.com/SylvainCorlay/PyDataParis2016/blob/master/Index.ipynb)"
   ]
  },
  {
   "cell_type": "code",
   "execution_count": 1,
   "metadata": {
    "collapsed": true
   },
   "outputs": [],
   "source": [
    "from __future__ import print_function\n",
    "import animationwidget"
   ]
  },
  {
   "cell_type": "code",
   "execution_count": 2,
   "metadata": {
    "collapsed": false
   },
   "outputs": [],
   "source": [
    "w = animationwidget.AnimationWidget()"
   ]
  },
  {
   "cell_type": "code",
   "execution_count": 3,
   "metadata": {
    "collapsed": false,
    "scrolled": true
   },
   "outputs": [],
   "source": [
    "w"
   ]
  },
  {
   "cell_type": "markdown",
   "metadata": {},
   "source": [
    "The widget has the following attributes:\n",
    "* value: a float in [0,1] interval. The timer periodically changes this value\n",
    "* run: a boolean that triggers the timer. \n",
    "* period: signal period (in milliseconds). It is the time for the counter to go from 0.0 to 1.0\n",
    "* sampling: sampling rate, interval between two pulses of the trigger."
   ]
  },
  {
   "cell_type": "code",
   "execution_count": null,
   "metadata": {
    "collapsed": false
   },
   "outputs": [],
   "source": [
    "w.run = True"
   ]
  },
  {
   "cell_type": "markdown",
   "metadata": {},
   "source": [
    "### My first animation\n",
    "\n",
    "In this first example, we visualize the timer value into a matplotlib plot. \n",
    "\n",
    "First, we need a special buffer to get a window on the last signal values. The RingBufferArray is a ring buffer that will store the last N values into a numpy array"
   ]
  },
  {
   "cell_type": "code",
   "execution_count": 4,
   "metadata": {
    "collapsed": false
   },
   "outputs": [],
   "source": [
    "import numpy as np\n",
    "\n",
    "class RingBufferArray(object):\n",
    "    \"\"\"\n",
    "    A class that keep a window of the N last values\n",
    "    \"\"\"\n",
    "    def __init__(self, size, dtype):\n",
    "        \"\"\"\n",
    "        :param size: windows size\n",
    "        :param dtype: data type\n",
    "        \"\"\"\n",
    "        self._values = np.zeros(size, dtype=dtype)\n",
    "        self._start_index = 0\n",
    "        self._len = size\n",
    "        \n",
    "\n",
    "    def __call__(self, new_value):\n",
    "        \"\"\"\n",
    "        Add the new value to the window. Return the full signal\n",
    "        \"\"\"\n",
    "        # Push value\n",
    "        self._values[self._start_index] = new_value\n",
    "        self._start_index = (self._start_index + 1) % self._len\n",
    "        return np.append(self._values[self._start_index:], self._values[:self._start_index])\n"
   ]
  },
  {
   "cell_type": "markdown",
   "metadata": {},
   "source": [
    "Then, we create a viewer based on matplotlib that will render the values into the ring buffer.\n",
    "\n",
    "The update method:\n",
    "* Update the ring buffer with the new value from the timer\n",
    "* Then render using matplotlib\n",
    "\n",
    "We connect the timer events to the update method using the observe method"
   ]
  },
  {
   "cell_type": "code",
   "execution_count": 24,
   "metadata": {
    "collapsed": false
   },
   "outputs": [
    {
     "data": {
      "image/png": "[encoded data removed]",
      "text/plain": [
       "<matplotlib.figure.Figure at 0x7fcd23500b10>"
      ]
     },
     "metadata": {},
     "output_type": "display_data"
    }
   ],
   "source": [
    "import matplotlib.pyplot as plt\n",
    "from ipywidgets import interactive\n",
    "from IPython.display import display, clear_output\n",
    "%matplotlib inline\n",
    "\n",
    "\n",
    "class SignalViewer(object):\n",
    "    def __init__(self, size):\n",
    "        \"\"\"\n",
    "        :param size: size of ring buffer (number of points to visualize)\n",
    "        :param fig_size: figure dimension\n",
    "        \"\"\"\n",
    "        self.buff = RingBufferArray(size, np.float64)\n",
    "        self.x = np.arange(size)\n",
    "        self.fig, self.ax = plt.subplots(1, 1)\n",
    "        \n",
    "    def update(self, new_value):\n",
    "        # Add the new point to the buffer ring\n",
    "        ypoints = self.buff(new_value)\n",
    "        # Replot \n",
    "        self.ax.cla()\n",
    "        self.ax.set_ylim(0, 1)\n",
    "        self.ax.plot(self.x, ypoints)\n",
    "        # Clear the previous display\n",
    "        clear_output(wait=True)\n",
    "        # Display the new one\n",
    "        display(self.fig)\n",
    "\n",
    "s = SignalViewer(30)\n",
    "anim = animationwidget.AnimationWidget()\n",
    "display(anim)\n",
    "\n",
    "# Connect timer to view\n",
    "anim.observe(lambda value: s.update(value[\"new\"]), names='value')"
   ]
  },
  {
   "cell_type": "code",
   "execution_count": null,
   "metadata": {
    "collapsed": false,
    "scrolled": true
   },
   "outputs": [],
   "source": [
    "import StringIO\n",
    "from ipywidgets import interact, Image\n",
    "import matplotlib.pyplot as plt\n",
    "from IPython.display import display, clear_output\n",
    "%matplotlib inline\n",
    "\n",
    "format_img = 'raw'\n",
    "\n",
    "def plot_into_img_widget(img_widget, figure):\n",
    "    \"\"\"\n",
    "    Render into memory then display into image widget\n",
    "    \"\"\"\n",
    "    buf = StringIO.StringIO()\n",
    "    figure.savefig(buf, format=format_img)\n",
    "    img_widget.value = buf.getvalue()\n",
    "    buf.close()\n",
    "    \n",
    "    \n",
    "\n",
    "class SignalViewer(object):\n",
    "    def __init__(self, size, fig_size):\n",
    "        \"\"\"\n",
    "        :param size: size of ring buffer (number of points to visualize)\n",
    "        :param fig_size: figure dimension\n",
    "        \"\"\"\n",
    "        self.buff = RingBufferArray(size, np.float64)\n",
    "        self.x = np.arange(size)\n",
    "        self.fig, self.ax = plt.subplots(1, 1, figsize=fig_size)\n",
    "        self.ax.set_ylim(0, 1)\n",
    "        self.img = Image(format=format_img, width=fig_size[0], height=fig_size[1])\n",
    "        plot_into_img_widget(self.img, self.fig)\n",
    "        display(self.img)\n",
    "        \n",
    "    def update(self, new_value):\n",
    "        ypoints = self.buff(new_value)\n",
    "        self.ax.cla()\n",
    "        self.ax.plot(self.x, ypoints)\n",
    "        plot_into_img_widget(self.img, self.fig)\n",
    "\n",
    "s = SignalViewer(30, (200, 100))  \n",
    "anim = animationwidget.AnimationWidget()\n",
    "display(anim)\n",
    "anim.observe(lambda value: s.update(value[\"new\"]), names='value')"
   ]
  },
  {
   "cell_type": "code",
   "execution_count": 25,
   "metadata": {
    "collapsed": true
   },
   "outputs": [],
   "source": [
    "anim.run = True"
   ]
  },
  {
   "cell_type": "code",
   "execution_count": null,
   "metadata": {
    "collapsed": false
   },
   "outputs": [],
   "source": [
    "anim"
   ]
  },
  {
   "cell_type": "code",
   "execution_count": null,
   "metadata": {
    "collapsed": false
   },
   "outputs": [],
   "source": [
    "s.img.height"
   ]
  },
  {
   "cell_type": "code",
   "execution_count": null,
   "metadata": {
    "collapsed": true
   },
   "outputs": [],
   "source": []
  }
 ],
 "metadata": {
  "kernelspec": {
   "display_name": "Python 2",
   "language": "python",
   "name": "python2"
  },
  "language_info": {
   "codemirror_mode": {
    "name": "ipython",
    "version": 2
   },
   "file_extension": ".py",
   "mimetype": "text/x-python",
   "name": "python",
   "nbconvert_exporter": "python",
   "pygments_lexer": "ipython2",
   "version": "2.7.11+"
  },
  "widgets": {
   "state": {
    "02a848f859954962893629f9cbb160a1": {
     "views": []
    },
    "07b6ed2ab302490e8526579ffd35a390": {
     "views": []
    },
    "0ac848a35006444d9365a8a6ae61903f": {
     "views": [
      {
       "cell_index": 10
      }
     ]
    },
    "0adf37ebb1894e118f284efff251056a": {
     "views": []
    },
    "0db254f595964b2b8601e843ab35b434": {
     "views": []
    },
    "0e28f59e5d00435d89c539b93d1e6234": {
     "views": []
    },
    "11377df36eb1402897db0360245aba3d": {
     "views": []
    },
    "1463af0ac21a4c2b8131559aaee93915": {
     "views": []
    },
    "16edb65f9e994682a34c1208bbcd259c": {
     "views": []
    },
    "18eb18a35b044274aae36ded80a41b3e": {
     "views": []
    },
    "2569197160b149398e5c698af3e6bbe6": {
     "views": []
    },
    "266d7cceba7e49f9baae3a4a54b1e4f2": {
     "views": []
    },
    "2eabf0cd33b3423a9cb22f872bdb4472": {
     "views": []
    },
    "2eb7941ca658429680938b83fc4ce29f": {
     "views": []
    },
    "3ca5277f85c8434d85c2bd4200624a54": {
     "views": []
    },
    "40f0ad2cf68a4c46aea7258fcdc91216": {
     "views": []
    },
    "458a16a8ca41495fbfde3224ce7e2b57": {
     "views": []
    },
    "4b3fa71ca6a24cb3941518f8084324f0": {
     "views": []
    },
    "4b80498827694c848b736fddfa906d15": {
     "views": [
      {
       "cell_index": 10
      }
     ]
    },
    "51ed426375d94eef80823c2a452c5beb": {
     "views": []
    },
    "57153db9ee164f92bcc7ebdf99f96c45": {
     "views": []
    },
    "5c8ed53789124a9a94ccde3512f62305": {
     "views": [
      {
       "cell_index": 10
      }
     ]
    },
    "5f2be76945a6450d9fe28a8e5518f679": {
     "views": []
    },
    "5f78708e0b0d4af0811375c0b70a1d04": {
     "views": []
    },
    "65607d7e37354e41b4174c44492ebfe6": {
     "views": []
    },
    "6658da6b9b904f6e80d7d3c76630bb00": {
     "views": []
    },
    "66d8370039f4494aabd91f6cb9ef1885": {
     "views": [
      {
       "cell_index": 10
      }
     ]
    },
    "6a19b0c529df4f3388baa92a8d37fc29": {
     "views": []
    },
    "76160b3f9729491c8400678e5f56cdf6": {
     "views": []
    },
    "77aa219db6e44702977959f0e1bc212e": {
     "views": []
    },
    "824bb7652e5b4f068e3ae2da388e92a7": {
     "views": []
    },
    "8782be3d9afb4edc8914ec1a9d4d2428": {
     "views": [
      {
       "cell_index": 10
      }
     ]
    },
    "9105211477354355a89b126e2d8ca159": {
     "views": []
    },
    "948358f15e794e91a1706ca723f46517": {
     "views": []
    },
    "94f8b18650d648b083024e9cb5d3b00e": {
     "views": [
      {
       "cell_index": 10
      }
     ]
    },
    "9810d8688611470fa11ed88565fbecbb": {
     "views": [
      {
       "cell_index": 10
      }
     ]
    },
    "9a26762639a54f24b0c1961ea8277e2e": {
     "views": []
    },
    "a6112cfb0e8e47cbbff751c4264e1d5f": {
     "views": []
    },
    "a93d6e88569846bd94217760ccee4bc2": {
     "views": [
      {
       "cell_index": 4
      }
     ]
    },
    "aa976929683d45c3ae3ba4e9b3d1af5d": {
     "views": []
    },
    "b5bdcf72e984475ab73f0134adabb6e8": {
     "views": []
    },
    "b8199df5e5a24744b3d5863fd694f5b0": {
     "views": []
    },
    "c1b9ca08377445dd90f07acbb81fe66d": {
     "views": []
    },
    "c4a2c7c95b97448384b25d179d63c4c5": {
     "views": []
    },
    "cc64057651f141f4be2a12b6cbb52bac": {
     "views": []
    },
    "df58c70634d449049f83f9a05c76df4d": {
     "views": []
    },
    "dfc47abc3a1c42c9a36b0a8256c6e637": {
     "views": []
    },
    "e4ac2d96cc644459b856f75dfa19b360": {
     "views": []
    },
    "e6d2d2d12d1b44d6a4442a8baeb0288b": {
     "views": []
    },
    "eb6c439a93b54b53a9bcc0684ce2be2a": {
     "views": []
    },
    "ec451442d99f4f5bb0afc12fab5208a9": {
     "views": []
    },
    "ecc3a4b9571b423f80d84b73dd529944": {
     "views": []
    },
    "f354c79834f748bebfaefd33932b8bba": {
     "views": []
    },
    "f84808e753874b96a47aa6fc7d90c0e6": {
     "views": []
    }
   },
   "version": "1.1.2"
  }
 },
 "nbformat": 4,
 "nbformat_minor": 0
}
