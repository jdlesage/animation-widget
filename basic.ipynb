{
 "cells": [
  {
   "cell_type": "markdown",
   "metadata": {},
   "source": [
    "# AnimationWidget. Basics"
   ]
  },
  {
   "cell_type": "markdown",
   "metadata": {},
   "source": [
    "Introduction\n",
    "============\n",
    "\n",
    "This notebook presents the animationwidget. It provides a periodic timer. This timer delivers a pulse that can drive animations in a notebook.\n",
    "\n",
    "Under the hull, this widget uses the javascript [setTimeout() function](http://www.w3schools.com/jsref/met_win_settimeout.asp) to periodically change a value in a Python model. This value can then be connected to other widgets.\n",
    "\n",
    "For more details about widgets , I recommend the [PyDataParis2016 tutorial by Sylvain Corlet](https://github.com/SylvainCorlay/PyDataParis2016/blob/master/Index.ipynb)"
   ]
  },
  {
   "cell_type": "code",
   "execution_count": 1,
   "metadata": {
    "collapsed": true
   },
   "outputs": [],
   "source": [
    "from __future__ import print_function\n",
    "import animationwidget"
   ]
  },
  {
   "cell_type": "code",
   "execution_count": 2,
   "metadata": {
    "collapsed": false
   },
   "outputs": [],
   "source": [
    "w = animationwidget.AnimationWidget()"
   ]
  },
  {
   "cell_type": "code",
   "execution_count": 3,
   "metadata": {
    "collapsed": false,
    "scrolled": true
   },
   "outputs": [],
   "source": [
    "w"
   ]
  },
  {
   "cell_type": "markdown",
   "metadata": {},
   "source": [
    "The widget has the following attributes:\n",
    "* value: a float in [0,1] interval. The timer periodically changes this value\n",
    "* run: a boolean that triggers the timer. \n",
    "* period: signal period (in milliseconds). It is the time for the counter to go from 0.0 to 1.0\n",
    "* sampling: sampling rate, interval between two pulses of the trigger."
   ]
  },
  {
   "cell_type": "code",
   "execution_count": 4,
   "metadata": {
    "collapsed": false
   },
   "outputs": [],
   "source": [
    "w.run = True"
   ]
  },
  {
   "cell_type": "markdown",
   "metadata": {},
   "source": [
    "### First Animation\n",
    "\n",
    "In this first example, we visualize the timer value into a matplotlib plot. \n",
    "\n",
    "First, we need a special buffer to get a window on the last signal values. The RingBufferArray is a ring buffer that will store the last N values into a numpy array"
   ]
  },
  {
   "cell_type": "code",
   "execution_count": 5,
   "metadata": {
    "collapsed": false
   },
   "outputs": [],
   "source": [
    "import numpy as np\n",
    "\n",
    "class RingBufferArray(object):\n",
    "    \"\"\"\n",
    "    A class that keep a window of the N last values\n",
    "    \"\"\"\n",
    "    def __init__(self, size, dtype):\n",
    "        \"\"\"\n",
    "        :param size: windows size\n",
    "        :param dtype: data type\n",
    "        \"\"\"\n",
    "        self._values = np.zeros(size, dtype=dtype)\n",
    "        self._start_index = 0\n",
    "        self._len = size\n",
    "        \n",
    "\n",
    "    def __call__(self, new_value):\n",
    "        \"\"\"\n",
    "        Add the new value to the window. Return the full signal\n",
    "        \"\"\"\n",
    "        # Push value\n",
    "        self._values[self._start_index] = new_value\n",
    "        self._start_index = (self._start_index + 1) % self._len\n",
    "        return np.append(self._values[self._start_index:], self._values[:self._start_index])\n"
   ]
  },
  {
   "cell_type": "markdown",
   "metadata": {},
   "source": [
    "Then, we create a viewer based on matplotlib that will render the values into the ring buffer.\n",
    "\n",
    "The update method:\n",
    "* Update the ring buffer with the new value from the timer\n",
    "* Then render using matplotlib\n",
    "\n",
    "We connect the timer events to the update method using the observe method"
   ]
  },
  {
   "cell_type": "code",
   "execution_count": 23,
   "metadata": {
    "collapsed": false
   },
   "outputs": [
    {
     "data": {
      "image/png": "[encoded data removed]",
      "text/plain": [
       "<matplotlib.figure.Figure at 0x7f02500b31d0>"
      ]
     },
     "metadata": {},
     "output_type": "display_data"
    }
   ],
   "source": [
    "import math\n",
    "import matplotlib.pyplot as plt\n",
    "from ipywidgets import ToggleButton\n",
    "from traitlets import link\n",
    "from IPython.display import display, clear_output\n",
    "%matplotlib inline\n",
    "\n",
    "\n",
    "class SignalViewer(object):\n",
    "    def __init__(self, size, fun_to_visualize):\n",
    "        \"\"\"\n",
    "        :param size: size of ring buffer (number of points to visualize)\n",
    "        :param fig_size: figure dimension\n",
    "        \"\"\"\n",
    "        self.buff = RingBufferArray(size, np.float64)\n",
    "        self.x = np.arange(size)\n",
    "        self.fun = fun_to_visualize\n",
    "        self.fig, self.ax = plt.subplots(1, 1)\n",
    "        \n",
    "    def update(self, new_value):\n",
    "        \"\"\"\n",
    "        Update the window and replot the figure\n",
    "        \"\"\"\n",
    "        # Add the new point to the buffer ring\n",
    "        ypoints = self.buff(self.fun(new_value))\n",
    "        # Replot \n",
    "        self.ax.cla()\n",
    "        self.ax.set_ylim(-1.0, 1.0)\n",
    "        self.ax.plot(self.x, ypoints, 'o-')\n",
    "        # Clear the previous display\n",
    "        clear_output(wait=True)\n",
    "        # Display the new one\n",
    "        display(self.fig)\n",
    "\n",
    "def sinus(val):\n",
    "    return math.sin(2.0*math.pi*val)\n",
    "        \n",
    "s = SignalViewer(100, sinus)\n",
    "anim = animationwidget.AnimationWidget()\n",
    "anim.loop = True\n",
    "\n",
    "button = ToggleButton(description=\"run\", default=False)\n",
    "link((button, 'value'), (anim, 'run'))\n",
    "display(anim)\n",
    "display(button)\n",
    "\n",
    "# Connect timer to view\n",
    "anim.observe(lambda value: s.update(value[\"new\"]), names='value')"
   ]
  },
  {
   "cell_type": "code",
   "execution_count": 22,
   "metadata": {
    "collapsed": false,
    "scrolled": true
   },
   "outputs": [],
   "source": [
    "import base64\n",
    "import cStringIO\n",
    "\n",
    "__dpi__ = 100\n",
    "\n",
    "def plot_into_img_widget(img_widget, figure):\n",
    "    \"\"\"\n",
    "    Render into memory then display into an image widget\n",
    "    \"\"\"\n",
    "    buf = cStringIO.StringIO()\n",
    "    figure.savefig(buf, format='png', dpi=__dpi__)\n",
    "    img_widget.value = buf.getvalue()\n",
    "    buf.close()\n",
    "    \n",
    "def get_fig_size(fig):\n",
    "    \"\"\"\n",
    "    Return matplotlib size in pixels\n",
    "    \"\"\"\n",
    "    return fig.get_figwidth()*__dpi__, fig.get_figheight()*__dpi__\n",
    "\n",
    "class DoubleBufferingSignalView(object):\n",
    "    def __init__(self, size, fun_to_visualize):\n",
    "        \"\"\"\n",
    "        :param size: buffer ring size\n",
    "        :param figsize: figure size (in pixel)\n",
    "        \"\"\"\n",
    "        self.buff = RingBufferArray(size, np.float64)\n",
    "        self.x = np.arange(size)\n",
    "        self.fun = fun_to_visualize\n",
    "        self.fig, self.ax = plt.subplots(1, 1)\n",
    "        figsize = get_fig_size(self.fig)\n",
    "        self.img = animationwidget.Image()\n",
    "        self.img.width = \"{0}px\".format(figsize[0])\n",
    "        self.img.height = \"{0}px\".format(figsize[1])\n",
    "        # Render \n",
    "        plot_into_img_widget(self.img, self.fig)\n",
    "        # Remove the original matplotlib plot\n",
    "        plt.close()\n",
    "        clear_output(wait=True)\n",
    "        # Display image \n",
    "        display(self.img)\n",
    "    \n",
    "    def update(self, new_value):\n",
    "        \"\"\"\n",
    "        Update the window and replot the figure\n",
    "        \"\"\"\n",
    "        # Add the new point to the buffer ring\n",
    "        ypoints = self.buff(self.fun(new_value))\n",
    "        # Replot \n",
    "        self.ax.cla()\n",
    "        self.ax.set_ylim(-1, 1)\n",
    "        self.ax.plot(self.x, ypoints, 'o-')\n",
    "        plot_into_img_widget(self.img, self.fig)\n",
    "        \n",
    "\n",
    "s = DoubleBufferingSignalView(100, sinus)\n",
    "anim = animationwidget.AnimationWidget()\n",
    "anim.loop = True\n",
    "\n",
    "button = ToggleButton(description=\"run\", default=False)\n",
    "link((button, 'value'), (anim, 'run'))\n",
    "display(anim)\n",
    "display(button)\n",
    "\n",
    "# Connect timer to view\n",
    "anim.observe(lambda value: s.update(value[\"new\"]), names='value')"
   ]
  },
  {
   "cell_type": "code",
   "execution_count": null,
   "metadata": {
    "collapsed": true
   },
   "outputs": [],
   "source": []
  },
  {
   "cell_type": "code",
   "execution_count": null,
   "metadata": {
    "collapsed": true
   },
   "outputs": [],
   "source": []
  }
 ],
 "metadata": {
  "kernelspec": {
   "display_name": "Python 2",
   "language": "python",
   "name": "python2"
  },
  "language_info": {
   "codemirror_mode": {
    "name": "ipython",
    "version": 2
   },
   "file_extension": ".py",
   "mimetype": "text/x-python",
   "name": "python",
   "nbconvert_exporter": "python",
   "pygments_lexer": "ipython2",
   "version": "2.7.9"
  },
  "widgets": {
   "state": {
    "004e835df6cb41babc3f62ce5945bfbd": {
     "views": []
    },
    "00d8ceabb17e4b7ba45bcf2fdcfcba51": {
     "views": []
    },
    "01feeb6a9acd4872908d9b72aaea1957": {
     "views": [
      {
       "cell_index": 10
      }
     ]
    },
    "0369cf57a5554e2ea59bcce47387d869": {
     "views": [
      {
       "cell_index": 10
      }
     ]
    },
    "03ca1493020942fa9d7e48bc0450f809": {
     "views": []
    },
    "079cc95b49c948058fa0b50bcf9109c5": {
     "views": []
    },
    "09bb784a7b194210850bd31ea291f642": {
     "views": []
    },
    "0ae5bb81fe134b3ea9572613e620d6ed": {
     "views": []
    },
    "14d19b8af7de4bae80549d08b0c85111": {
     "views": []
    },
    "1bb95904958146ae885fa42854bf2266": {
     "views": []
    },
    "1c908f3db41445f99cf1972cc58d126a": {
     "views": []
    },
    "1e36e56179ec472d802661726b4eac41": {
     "views": []
    },
    "1e81b80c1a064867bb48dd2fa837e54c": {
     "views": []
    },
    "2082d66d5647450095518c86518b7e95": {
     "views": []
    },
    "235ac36b8a194f0c835beede423c0026": {
     "views": []
    },
    "2a28625290e945c8be8052e2cbfda32a": {
     "views": []
    },
    "2b016e7ae2dc498fb8bed274409c58cd": {
     "views": []
    },
    "2d383510c5d4476298770e845f7f37bc": {
     "views": []
    },
    "2f6f2ccc514f446389139ca3f6b7a045": {
     "views": []
    },
    "35085fa6afc74d22a178d954d2b0050b": {
     "views": []
    },
    "3bfe5bf51c884b05b29f33ae82ac269c": {
     "views": [
      {
       "cell_index": 10
      }
     ]
    },
    "3c158fc6eed441c4978c5c653c9f5731": {
     "views": []
    },
    "3d13c9c3daf14acd9f95109bd01ba2d1": {
     "views": []
    },
    "40f7a490dbcf48ff84d703cbfd02a5e7": {
     "views": []
    },
    "411c87c20a024047b2ffb048e589ed78": {
     "views": []
    },
    "44681bbe7f1848f6b65bb535cafe473c": {
     "views": []
    },
    "45c8a2368d8445e0aed6406788d4862e": {
     "views": []
    },
    "46ec2141936b4acca1b8afd9e74fc611": {
     "views": [
      {
       "cell_index": 10
      }
     ]
    },
    "49c5a9a166dc426a88bb3ede0757db21": {
     "views": []
    },
    "4bd1dc4074064265a9d2932b3f74d444": {
     "views": []
    },
    "59df0c41f58e4442bec18c94e1dceafc": {
     "views": []
    },
    "639438680b7942e08a8a917317aff4b0": {
     "views": []
    },
    "69656f192c4e4986b2f7930b8b370292": {
     "views": []
    },
    "6aab1d0c9d0c42c1bfb2b697bbe838db": {
     "views": []
    },
    "6b7dc6e629b94c3696b8e132da6130d3": {
     "views": []
    },
    "719db4443b1b4613a67e34f893e83404": {
     "views": [
      {
       "cell_index": 10
      }
     ]
    },
    "77523b4d683e4eb19e15631082f4a83e": {
     "views": [
      {
       "cell_index": 4
      }
     ]
    },
    "796c2fa36c194df6b9902d09419fc7e6": {
     "views": []
    },
    "7c184d2727ed4d79a2a1af3fe7933d08": {
     "views": []
    },
    "7faf90b6a11d40f4ad639ded9759af5b": {
     "views": [
      {
       "cell_index": 10
      }
     ]
    },
    "871e86f64b6144cc80a6ff9ac5b99296": {
     "views": [
      {
       "cell_index": 11
      }
     ]
    },
    "90d589f58af34c90a9af43ba0c58b338": {
     "views": [
      {
       "cell_index": 10
      }
     ]
    },
    "91e98f31857e4fa0aea976aaf25226f5": {
     "views": []
    },
    "971798cd14fa4791955956d06d73bd4d": {
     "views": []
    },
    "982bdd305d7947428ed9d62294e732d3": {
     "views": []
    },
    "9b398b5a8fe44c45bedece8bc3ae6eb2": {
     "views": [
      {
       "cell_index": 11
      }
     ]
    },
    "b0c0a6da8de34c838b91cd3a1b5b5839": {
     "views": []
    },
    "b60042d14f6546d4b97ab2f0b1ae8edf": {
     "views": []
    },
    "b6016a5d0a3e4f9294e294835a1d59dd": {
     "views": [
      {
       "cell_index": 11
      }
     ]
    },
    "bc05c38ac9314c2dbc8d19e671da3a13": {
     "views": []
    },
    "c816884b50aa4ebdb5ed0e31adb6f108": {
     "views": []
    },
    "cbed5c235729441d82d11e58be7190a5": {
     "views": [
      {
       "cell_index": 11
      }
     ]
    },
    "cfa1dbec78a94f068dc7ec236b93d62b": {
     "views": []
    },
    "d25e89270e4a4143b4655f3368a3c0a9": {
     "views": [
      {
       "cell_index": 10
      }
     ]
    },
    "d66aceaafcf248d2a50159e5fec74c87": {
     "views": [
      {
       "cell_index": 11
      }
     ]
    },
    "d99e0e71d01a4b1782508448ecb1a136": {
     "views": []
    },
    "de42dc7fd55a48e98921d5c58ad47248": {
     "views": []
    },
    "e4912fa8bd2444d3a91467c2275dc29c": {
     "views": []
    },
    "e7d62565010e4f85bca2c7cc56c9cf78": {
     "views": []
    },
    "e95623eb7612434db5076c50798b52ba": {
     "views": []
    },
    "e9d79f34b06e46909ce1e9651f8366ba": {
     "views": [
      {
       "cell_index": 10
      }
     ]
    },
    "ea653d30226d48bc8c8034c8c15826a8": {
     "views": [
      {
       "cell_index": 11
      }
     ]
    },
    "ecb50c9bb96c45b8abe18d1dcb5be36b": {
     "views": []
    },
    "f495b2eb850b491d9dc501c2377389aa": {
     "views": []
    },
    "fc3d494e5fda4e55babe4482f08d3796": {
     "views": [
      {
       "cell_index": 11
      }
     ]
    },
    "fd5416dd101d421a955c05c9e7314bbc": {
     "views": []
    }
   },
   "version": "1.1.2"
  }
 },
 "nbformat": 4,
 "nbformat_minor": 0
}
