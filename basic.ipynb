{
 "cells": [
  {
   "cell_type": "markdown",
   "metadata": {},
   "source": [
    "# AnimationWidget. Basics"
   ]
  },
  {
   "cell_type": "markdown",
   "metadata": {},
   "source": [
    "Introduction\n",
    "============\n",
    "\n",
    "This notebook presents the animationwidget. It provides a periodic timer. This timer delivers a pulse that can drive animations in a notebook.\n",
    "\n",
    "Under the hull, this widget uses the javascript [setTimeout() function](http://www.w3schools.com/jsref/met_win_settimeout.asp) to periodically change a value in a Python model. This value can then be connected to other widgets.\n",
    "\n",
    "For more details about widgets , I recommend the [PyDataParis2016 tutorial by Sylvain Corlet](https://github.com/SylvainCorlay/PyDataParis2016/blob/master/Index.ipynb)"
   ]
  },
  {
   "cell_type": "code",
   "execution_count": null,
   "metadata": {
    "collapsed": false
   },
   "outputs": [],
   "source": [
    "from __future__ import print_function\n",
    "import animationwidget"
   ]
  },
  {
   "cell_type": "code",
   "execution_count": null,
   "metadata": {
    "collapsed": false
   },
   "outputs": [],
   "source": [
    "w = animationwidget.AnimationWidget()"
   ]
  },
  {
   "cell_type": "code",
   "execution_count": null,
   "metadata": {
    "collapsed": false,
    "scrolled": true
   },
   "outputs": [],
   "source": [
    "w"
   ]
  },
  {
   "cell_type": "markdown",
   "metadata": {},
   "source": [
    "The widget has the following attributes:\n",
    "* value: a float in [0,1] interval. The timer periodically changes this value\n",
    "* run: a boolean that triggers the timer. \n",
    "* period: signal period (in milliseconds). It is the time for the counter to go from 0.0 to 1.0\n",
    "* sampling: sampling rate, interval between two pulses of the trigger."
   ]
  },
  {
   "cell_type": "code",
   "execution_count": null,
   "metadata": {
    "collapsed": false
   },
   "outputs": [],
   "source": [
    "w.run = True"
   ]
  },
  {
   "cell_type": "markdown",
   "metadata": {},
   "source": [
    "### First Animation\n",
    "\n",
    "In this first example, we visualize the timer value into a matplotlib plot. \n",
    "\n",
    "First, we need a special buffer to get a window on the last signal values. The RingBufferArray is a ring buffer that will store the last N values into a numpy array"
   ]
  },
  {
   "cell_type": "code",
   "execution_count": null,
   "metadata": {
    "collapsed": false
   },
   "outputs": [],
   "source": [
    "import numpy as np\n",
    "\n",
    "class RingBufferArray(object):\n",
    "    \"\"\"\n",
    "    A class that keep a window of the N last values\n",
    "    \"\"\"\n",
    "    def __init__(self, size, dtype):\n",
    "        \"\"\"\n",
    "        :param size: windows size\n",
    "        :param dtype: data type\n",
    "        \"\"\"\n",
    "        self._values = np.zeros(size, dtype=dtype)\n",
    "        self._start_index = 0\n",
    "        self._len = size\n",
    "        \n",
    "\n",
    "    def __call__(self, new_value):\n",
    "        \"\"\"\n",
    "        Add the new value to the window. Return the full signal\n",
    "        \"\"\"\n",
    "        # Push value\n",
    "        self._values[self._start_index] = new_value\n",
    "        self._start_index = (self._start_index + 1) % self._len\n",
    "        return np.append(self._values[self._start_index:], self._values[:self._start_index])\n"
   ]
  },
  {
   "cell_type": "markdown",
   "metadata": {},
   "source": [
    "Then, we create a viewer based on matplotlib that will render the values into the ring buffer.\n",
    "\n",
    "The update method:\n",
    "* Update the ring buffer with the new value from the timer\n",
    "* Then render using matplotlib\n",
    "\n",
    "We connect the timer events to the update method using the observe method"
   ]
  },
  {
   "cell_type": "markdown",
   "metadata": {},
   "source": [
    "### Double buffering\n",
    "\n"
   ]
  },
  {
   "cell_type": "markdown",
   "metadata": {},
   "source": [
    "With some browsers, you can experiment some flickering with the above animation. It is due to the update method that first clears the cell (clear_output(true)) and then renders and blits the new figure (display(self.fig))\n",
    "\n",
    "If the rendering takes some while, the animation would flicker. The solution is to use two buffers to render the animation. At each frame, matplotlib first renders the figure offline. Then, when the image is ready, the viewer changes the content of the image widget in the cell to display the new frame.\n",
    "\n",
    "The double buffering viewer do not use anymore the clear_output instruction. It fixes the flickering. The animiationwidget.Image is an extension of the jupyter Image widget that enables to change the image.\n"
   ]
  },
  {
   "cell_type": "code",
   "execution_count": null,
   "metadata": {
    "collapsed": false
   },
   "outputs": [],
   "source": [
    "import math\n",
    "import matplotlib.pyplot as plt\n",
    "from ipywidgets import ToggleButton\n",
    "from traitlets import link\n",
    "from IPython.display import display, clear_output\n",
    "%matplotlib inline\n",
    "\n",
    "\n",
    "class SignalViewer(object):\n",
    "    def __init__(self, size, fun_to_visualize):\n",
    "        \"\"\"\n",
    "        :param size: size of ring buffer (number of points to visualize)\n",
    "        :param fig_size: figure dimension\n",
    "        \"\"\"\n",
    "        self.buff = RingBufferArray(size, np.float64)\n",
    "        self.x = np.arange(size)\n",
    "        self.fun = fun_to_visualize\n",
    "        self.fig, self.ax = plt.subplots(1, 1)\n",
    "        \n",
    "    def update(self, new_value):\n",
    "        \"\"\"\n",
    "        Update the window and replot the figure\n",
    "        \"\"\"\n",
    "        # Add the new point to the buffer ring\n",
    "        ypoints = self.buff(self.fun(new_value))\n",
    "        # Replot \n",
    "        self.ax.cla()\n",
    "        self.ax.set_ylim(-1.0, 1.0)\n",
    "        self.ax.plot(self.x, ypoints, 'o-')\n",
    "        # Clear the previous display\n",
    "        clear_output(wait=True)\n",
    "        # Display the new one\n",
    "        display(self.fig)\n",
    "\n",
    "def sinus(val):\n",
    "    return math.sin(2.0*math.pi*val)\n",
    "        \n",
    "s = SignalViewer(100, sinus)\n",
    "anim = animationwidget.AnimationWidget()\n",
    "anim.loop = True\n",
    "\n",
    "button = ToggleButton(description=\"run\", default=False)\n",
    "link((button, 'value'), (anim, 'run'))\n",
    "display(anim)\n",
    "display(button)\n",
    "\n",
    "# Connect timer to view\n",
    "anim.observe(lambda value: s.update(value[\"new\"]), names='value')"
   ]
  },
  {
   "cell_type": "code",
   "execution_count": null,
   "metadata": {
    "collapsed": false,
    "scrolled": true
   },
   "outputs": [],
   "source": [
    "class DoubleBufferingSignalView(object):\n",
    "    def __init__(self, size, fun_to_visualize):\n",
    "        \"\"\"\n",
    "        :param size: buffer ring size\n",
    "        :param figsize: figure size (in pixel)\n",
    "        \"\"\"\n",
    "        self.buff = RingBufferArray(size, np.float64)\n",
    "        self.x = np.arange(size)\n",
    "        self.fun = fun_to_visualize\n",
    "        self.fig, self.ax = plt.subplots(1, 1)\n",
    "        figsize = animationwidget.get_fig_size(self.fig)\n",
    "        self.img = animationwidget.Image()\n",
    "        self.img.width = \"{0}px\".format(figsize[0])\n",
    "        self.img.height = \"{0}px\".format(figsize[1])\n",
    "        # Render \n",
    "        animationwidget.plot_into_img_widget(self.img, self.fig)\n",
    "        # Remove the original matplotlib plot\n",
    "        plt.close()\n",
    "        clear_output(wait=True)\n",
    "        # Display image \n",
    "        display(self.img)\n",
    "    \n",
    "    def update(self, new_value):\n",
    "        \"\"\"\n",
    "        Update the window and replot the figure\n",
    "        \"\"\"\n",
    "        # Add the new point to the buffer ring\n",
    "        ypoints = self.buff(self.fun(new_value))\n",
    "        # Replot \n",
    "        self.ax.cla()\n",
    "        self.ax.set_ylim(-1, 1)\n",
    "        self.ax.plot(self.x, ypoints, 'o-')\n",
    "        animationwidget.plot_into_img_widget(self.img, self.fig)\n",
    "        \n",
    "\n",
    "s = DoubleBufferingSignalView(100, sinus)\n",
    "anim = animationwidget.AnimationWidget()\n",
    "anim.loop = True\n",
    "\n",
    "button = ToggleButton(description=\"run\", default=False)\n",
    "link((button, 'value'), (anim, 'run'))\n",
    "display(anim)\n",
    "display(button)\n",
    "\n",
    "# Connect timer to view\n",
    "anim.observe(lambda value: s.update(value[\"new\"]), names='value')"
   ]
  },
  {
   "cell_type": "markdown",
   "metadata": {
    "collapsed": true
   },
   "source": [
    "### Control all the timer parameters"
   ]
  },
  {
   "cell_type": "code",
   "execution_count": null,
   "metadata": {
    "collapsed": false
   },
   "outputs": [],
   "source": [
    "from ipywidgets import FloatSlider, IntSlider\n",
    "\n",
    "s = DoubleBufferingSignalView(100, sinus)\n",
    "anim = animationwidget.AnimationWidget()\n",
    "anim.loop = True\n",
    "\n",
    "button = ToggleButton(description=\"run\", default=False)\n",
    "period = FloatSlider(min=100, max=20000, step=100, description=\"period (ms)\")\n",
    "nbsamples = IntSlider(min=10, max=200, step=10, description=\"number of samples in a period\")\n",
    "link((button, 'value'), (anim, 'run'))\n",
    "link((period, 'value'), (anim, 'period'))\n",
    "link((nbsamples, 'value'), (anim, 'nbsamples'))\n",
    "display(anim)\n",
    "display(button)\n",
    "display(period)\n",
    "display(nbsamples)\n",
    "\n",
    "# Connect timer to view\n",
    "anim.observe(lambda value: s.update(value[\"new\"]), names='value')"
   ]
  },
  {
   "cell_type": "code",
   "execution_count": null,
   "metadata": {
    "collapsed": true
   },
   "outputs": [],
   "source": []
  }
 ],
 "metadata": {
  "kernelspec": {
   "display_name": "Python 2",
   "language": "python",
   "name": "python2"
  },
  "language_info": {
   "codemirror_mode": {
    "name": "ipython",
    "version": 2
   },
   "file_extension": ".py",
   "mimetype": "text/x-python",
   "name": "python",
   "nbconvert_exporter": "python",
   "pygments_lexer": "ipython2",
   "version": "2.7.9"
  },
  "widgets": {
   "state": {
    "00aee726d5b04d64b9c759793b3cc599": {
     "views": []
    },
    "0210184ddd8c4254951752ca0dc59d78": {
     "views": [
      {
       "cell_index": 13
      }
     ]
    },
    "030fe63850f742839ada0d9be00a45c3": {
     "views": [
      {
       "cell_index": 15
      }
     ]
    },
    "122a1a797489484fac0f76e47774179a": {
     "views": [
      {
       "cell_index": 4
      }
     ]
    },
    "12d45990e8a1414888d9f2350c1f9241": {
     "views": []
    },
    "1773becba3d14fbf803c4439874be3e0": {
     "views": [
      {
       "cell_index": 15
      }
     ]
    },
    "1b31f03c3dd34984a60bca5568568ac1": {
     "views": []
    },
    "2eedc4d056be43dcbc15840014dbc91c": {
     "views": []
    },
    "36313c844e2e4bff941c23296e557964": {
     "views": []
    },
    "48150c5f313f4f17a8a84bdfd905b20f": {
     "views": []
    },
    "5e367cd741dd42acbe9f784fec8c529f": {
     "views": [
      {
       "cell_index": 13
      }
     ]
    },
    "60a46d50548c4274a058bc819e7137f1": {
     "views": []
    },
    "65c55e78786e42c8be2b8dfc7d76aba4": {
     "views": [
      {
       "cell_index": 10
      }
     ]
    },
    "6c134261e22a464a98eb6ca0dc7d4317": {
     "views": [
      {
       "cell_index": 15
      }
     ]
    },
    "8a26bec504dd436aafe49939c25d05ae": {
     "views": [
      {
       "cell_index": 12
      }
     ]
    },
    "98e45894ce7f43b28dff490a3d7af005": {
     "views": []
    },
    "a0aa3f8706ac4a509c41fdf7068b125e": {
     "views": [
      {
       "cell_index": 12
      }
     ]
    },
    "a0b891111e4e447f8603c4a37fb5680f": {
     "views": []
    },
    "adc998969d254adc86beceac52313308": {
     "views": [
      {
       "cell_index": 13
      }
     ]
    },
    "b26e493c328b437c8e4322eb50833aee": {
     "views": []
    },
    "c3a1b70bbcf6407b86f9413ca8e15152": {
     "views": []
    },
    "c51e9061b51740beb162a34f3957a278": {
     "views": []
    },
    "c6822281f1ff40b3b9c36fc64db4b55b": {
     "views": [
      {
       "cell_index": 15
      }
     ]
    },
    "c7b2ceebd7d14fdfb508cd847a9544e6": {
     "views": [
      {
       "cell_index": 10
      }
     ]
    },
    "c8c12aab89c64079a4af8afed780734f": {
     "views": []
    },
    "e06c382c9e7f43528b080a78154f7302": {
     "views": []
    },
    "e2be1b11c3cb426cb14f01678d63c5d0": {
     "views": []
    },
    "f001484d7a8d46d1b400b380a23a1678": {
     "views": []
    },
    "fa1d57601c55480ea3bd0dcdf22e2dc4": {
     "views": []
    },
    "fef15aca4dfe4b24afe115a2b8cc649c": {
     "views": [
      {
       "cell_index": 15
      }
     ]
    }
   },
   "version": "1.1.2"
  }
 },
 "nbformat": 4,
 "nbformat_minor": 0
}
